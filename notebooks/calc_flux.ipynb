{
 "cells": [
  {
   "cell_type": "code",
   "execution_count": 1,
   "id": "a6f894eb-7291-4278-8652-c5f8526541b2",
   "metadata": {},
   "outputs": [],
   "source": [
    "import netCDF4 as nc\n",
    "import numpy as np\n",
    "import xarray as xr\n",
    "import warnings\n",
    "from eofs.xarray import Eof\n",
    "import matplotlib.pyplot as plt\n",
    "import matplotlib.ticker as mticker\n",
    "from matplotlib import gridspec\n",
    "import datetime\n",
    "import seaborn as sns\n",
    "import cmocean as cmo\n",
    "import cartopy.crs as ccrs\n",
    "import cartopy.feature as cfeature\n",
    "from cartopy.mpl.ticker import LongitudeFormatter, LatitudeFormatter\n",
    "from scipy.stats import linregress\n",
    "import matplotlib.patches as mpatches\n",
    "import scipy.io as sio\n",
    "import matplotlib.colors as mcolors\n",
    "import matplotlib.patches as patch\n",
    "import sys\n",
    "import os\n",
    "sys.path.append(os.path.abspath('../scripts'))\n",
    "from proj_utils import *\n",
    "fig_path      = '../figures'"
   ]
  },
  {
   "cell_type": "code",
   "execution_count": 2,
   "id": "81878297-1739-4e5e-a5f6-1fe6c0b29ebc",
   "metadata": {},
   "outputs": [],
   "source": [
    "# --- Pull json velocity files ---\n",
    "s3, credentials = init_S3FileSystem(use_earthdata=False, requester_pays=True)\n",
    "mzz_local_directory = Path('/efs_ecco/mzz-jsons-V4r5/MZZ_mon_mean_native')\n",
    "\n",
    "mzz_local_file= mzz_local_directory / 'OCEAN_VELOCITY_mon_mean_native_llc090_ECCOV4r5.json' # Pull monthly velocity \n",
    "fs = fsspec.filesystem(\"reference\",     \n",
    "                       fo=str(mzz_local_file),\n",
    "                       remote_protocol=\"s3\",\n",
    "                       remote_options={\"anon\":False, \"requester_pays\":True},\n",
    "                       skip_instance_cache=True)\n",
    "\n",
    "fs.asynchronous = True\n",
    "store = zarr.storage.FsspecStore(fs)\n",
    "ds = xr.open_dataset(store, engine='zarr',\n",
    "                     consolidated=False, chunks={'time':4, 'Z':50})"
   ]
  },
  {
   "cell_type": "code",
   "execution_count": 3,
   "id": "14648c12-3ec4-42be-a7af-32da91535afa",
   "metadata": {},
   "outputs": [],
   "source": [
    "# --- Pull geometry file ---\n",
    "bathy_path = user_home_dir + '/efs_ecco/ECCO/V4/r5/netcdf/native/geometry/GRID_GEOMETRY_ECCO_V4r5_native_llc0090.nc'\n",
    "ds_bathy   = xr.open_dataset(bathy_path).Depth\n",
    "ds_geom    = xr.open_dataset(bathy_path)"
   ]
  },
  {
   "cell_type": "code",
   "execution_count": 4,
   "id": "44828093-4768-4ad0-9a24-c41754bc6fa5",
   "metadata": {},
   "outputs": [],
   "source": [
    "# --- Get (full) north face\n",
    "ds = get_na_tile(ds)\n",
    "ds = subset_tgb_box(ds)\n",
    "\n",
    "ds_geom = get_na_tile(ds_geom)\n",
    "ds_geom = subset_tgb_box(ds_geom)\n",
    "\n",
    "ds_north_face = ds.sel(i = slice(ds.i[0]), i_g = slice(ds.i_g[0])).squeeze()\n",
    "ds_geom_north = ds_geom.sel(i = slice(ds.i[0]), i_g = slice(ds.i_g[0])).squeeze()"
   ]
  },
  {
   "cell_type": "code",
   "execution_count": null,
   "id": "d7f61bd2-27f9-42dc-a38d-6e992fdb5b26",
   "metadata": {},
   "outputs": [],
   "source": [
    "# --- Calculate flux, NORTH FACE FULL ---\n",
    "u    = ds_north_face['UVEL'].squeeze()\n",
    "hfac = ds_geom_north['hFacW'].squeeze()\n",
    "dy   = ds_geom_north['dyC'].squeeze()\n",
    "drf  = ds_geom_north['drF'].squeeze()\n",
    "\n",
    "drf_3d = drf.broadcast_like(u)\n",
    "dx_3d  = dy.broadcast_like(u)\n",
    "\n",
    "area = dx_3d * drf_3d * hfac\n",
    "\n",
    "flux_north = (u * area).sel(j_g = 72).squeeze()\n",
    "\n",
    "flux_north_mn = flux_north.mean(dim = 'time').compute()"
   ]
  },
  {
   "cell_type": "code",
   "execution_count": null,
   "id": "70fd65b5-706a-47a9-9b70-7ae6fd55df11",
   "metadata": {},
   "outputs": [],
   "source": [
    "# --- Calculate NORTH FACE flux time series, just DWBC box ---\n",
    "flux_north_masked = flux_north[:,18:40,5:10]\n",
    "flux_north_dwbc   = flux_north_masked.sum(dim = ('k','j'))/1e6"
   ]
  },
  {
   "cell_type": "code",
   "execution_count": null,
   "id": "9c6a7b4a-d5fc-4f0a-8ee8-b0addb30380c",
   "metadata": {},
   "outputs": [],
   "source": [
    "# --- Get (full) west face \n",
    "ds_east_face = ds.sel(j = slice(ds.j[0]-0.25,ds.j[0]+0.25), j_g = slice(ds.j_g[0]-0.25,ds.j_g[0]+0.25)).squeeze()\n",
    "ds_geom_east = ds_geom.sel(j = slice(ds.j[0]-0.25,ds.j[0]+0.25), j_g = slice(ds.j_g[0]-0.25,ds.j_g[0]+0.25)).squeeze()"
   ]
  },
  {
   "cell_type": "code",
   "execution_count": null,
   "id": "2f82cfa1-9356-4721-9d10-86e114bbf7cf",
   "metadata": {},
   "outputs": [],
   "source": [
    "# --- Calculate flux, WEST FACE FULL ---\n",
    "v    = ds_east_face['VVEL'].squeeze()\n",
    "hfac = ds_geom_east['hFacS'].squeeze()\n",
    "dx   = ds_geom_east['dxC'].squeeze()\n",
    "drf  = ds_geom_east['drF'].squeeze()\n",
    "\n",
    "drf_3d = drf.broadcast_like(v)\n",
    "dx_3d  = dx.broadcast_like(v)\n",
    "\n",
    "area = dx_3d * drf_3d * hfac\n",
    "\n",
    "flux_east = (v * area).sel(i_g = 42)\n",
    "\n",
    "flux_east_mn = flux_east.mean(dim = 'time').compute()"
   ]
  },
  {
   "cell_type": "code",
   "execution_count": null,
   "id": "9da45c29-58d3-44bd-8f18-2ad5285ef19d",
   "metadata": {},
   "outputs": [],
   "source": [
    "# --- Calculate EAST FACE flux time series, just DWBC box ---\n",
    "flux_east_masked = flux_east[:,25:45,7:13]\n",
    "flux_east_dwbc   = flux_east_masked.sum(dim = ('k','i'))/1e6"
   ]
  },
  {
   "cell_type": "code",
   "execution_count": null,
   "id": "9aa240ee-f9ef-4ee4-a88f-8c46dcea8ddf",
   "metadata": {},
   "outputs": [],
   "source": [
    "# --- Calculate correlation coefficient ---\n",
    "corr_coef = np.corrcoef(flux_north_masked.sum(dim = ('k','j'))/1e6,-flux_east_masked.sum(dim = ('k','i'))/1e6)[0,1]"
   ]
  },
  {
   "cell_type": "code",
   "execution_count": null,
   "id": "cb27534b-cc96-4a73-a51c-3b5759e9cc58",
   "metadata": {},
   "outputs": [],
   "source": [
    "# --- Plot flux time series ---\n",
    "sv_name = '/north_face_east_face_flux_ts'\n",
    "sns.set_style('whitegrid',{\"grid.linestyle\": \":\"})\n",
    "fig     = plt.figure(figsize=(12, 6))\n",
    "\n",
    "north_face  = plt.plot(flux_north_masked.time,flux_north_dwbc, c = '#dc267f', alpha = 0.5, label = 'Flux through North Face')\n",
    "east_face  = plt.plot(flux_east_masked.time,-flux_east_dwbc, c = '#648fff', alpha = 0.5, label = 'Flux through East Face')\n",
    "\n",
    "mean_flux   = plt.axhline(flux_north_mask.sum(dim = ('k','j')).mean(dim='time').compute()/1e6, color = '#dc267f', linestyle = '--', linewidth = 2)\n",
    "mean_flux   = plt.axhline(-flux_east_mask.sum(dim = ('k','i')).mean(dim='time').compute()/1e6, color = '#648fff', linestyle = '--', linewidth = 2)\n",
    "xtix = plt.yticks(fontsize=18)\n",
    "xtix = plt.xticks(fontsize=18)\n",
    "\n",
    "plt.xlim(flux_north.time[0],flux_north.time[-1])\n",
    "plt.title('r = ' + str('{:.2f}'.format(np.corrcoef(flux_north_mask.sum(dim = ('k','j'))/1e6,-flux_east_mask.sum(dim = ('k','i'))/1e6)[0,1])), fontsize = 18)\n",
    "plt.legend(fontsize=15)\n",
    "plt.ylabel('Volume Flux of DWBC [$Sv$]',fontsize = 18 )\n",
    "plt.savefig(fig_path + sv_name + '.png', format='png', bbox_inches=\"tight\",dpi=500)"
   ]
  },
  {
   "cell_type": "code",
   "execution_count": null,
   "id": "a3c89924-e455-448c-bdd6-42d7537e5b0a",
   "metadata": {},
   "outputs": [],
   "source": [
    "# --- Plot ratio of flux in to out ---\n",
    "sv_name = '/north_face_east_face_ratio_ts'\n",
    "sns.set_style('whitegrid',{\"grid.linestyle\": \":\"})\n",
    "fig     = plt.figure(figsize=(12, 6))\n",
    "\n",
    "north_face  = plt.plot(flux_east.time, (abs(flux_east_dwbc)/abs(flux_north_dwbc)*100), alpha = 0.5, c = '#785ef0')\n",
    "\n",
    "mean_flux   = plt.axhline((abs(flux_east_dwbc)/abs(flux_north_dwbc)*100).mean(), color = '#785ef0', linestyle = '--', linewidth = 2)\n",
    "xtix = plt.yticks(fontsize=18)\n",
    "xtix = plt.xticks(fontsize=18)\n",
    "\n",
    "plt.xlim(flux_north.time[0],flux_north.time[-1])\n",
    "#plt.title('Ratio of Flux Out to Flux In ', fontsize = 18)\n",
    "plt.ylabel('Flux East Face/Flux North Face [%]',fontsize = 18 )\n",
    "plt.savefig(fig_path + sv_name + '.png', format='png', bbox_inches=\"tight\",dpi=500)"
   ]
  },
  {
   "cell_type": "code",
   "execution_count": null,
   "id": "4544abdb-d9cc-427a-8da5-c669f3a18a04",
   "metadata": {},
   "outputs": [],
   "source": [
    "# --- Calculate north and west face spectra\n",
    "sys.path.append(os.path.abspath('../scripts'))\n",
    "from proj_utils import *\n",
    "from analysis_helpers import *\n",
    "\n",
    "north_freq, psd, north_spectrum = calc_flux_spec(flux_north_dwbc)\n",
    "east_freq, psd, east_spectrum  = calc_flux_spec(flux_east_dwbc)"
   ]
  },
  {
   "cell_type": "code",
   "execution_count": null,
   "id": "15be35db-9eb5-46ce-9e36-dfa49c298349",
   "metadata": {},
   "outputs": [],
   "source": [
    "# ---  Plot of north and west face spectra ---\n",
    "sv_name = '/north_face_east_face_specs'\n",
    "fig     = plt.figure(figsize=(8, 6))\n",
    "plt.xscale('log')\n",
    "plt.yscale('log')\n",
    "periods = np.array([0.25, 0.5, 1, 2, 5, 10, 20, 50])  # years\n",
    "frequencies = 1 / periods\n",
    "frequencies = frequencies[(frequencies >= freq.min()) & (frequencies <= freq.max())]\n",
    "period_labels = [f'{1/f:.2f}' for f in frequencies]  # years\n",
    "\n",
    "plt.plot(north_spec.frequency,north_spec,c = '#dc267f')\n",
    "plt.plot(east_spec.frequency,east_spec,c = '#648fff')\n",
    "\n",
    "plt.xticks(frequencies, labels=period_labels,fontsize = 15)\n",
    "plt.yticks(fontsize = 15)\n",
    "\n",
    "\n",
    "\n",
    "plt.xlabel('Frequency [$yr^{-1}$]',fontsize = 15)\n",
    "plt.ylabel('PSD',fontsize = 15)\n",
    "plt.savefig(fig_path + sv_name + '.png', format='png', bbox_inches=\"tight\",dpi=500)"
   ]
  }
 ],
 "metadata": {
  "kernelspec": {
   "display_name": "Python 3 (ipykernel)",
   "language": "python",
   "name": "python3"
  },
  "language_info": {
   "codemirror_mode": {
    "name": "ipython",
    "version": 3
   },
   "file_extension": ".py",
   "mimetype": "text/x-python",
   "name": "python",
   "nbconvert_exporter": "python",
   "pygments_lexer": "ipython3",
   "version": "3.13.4"
  }
 },
 "nbformat": 4,
 "nbformat_minor": 5
}
