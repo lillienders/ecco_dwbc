{
 "cells": [
  {
   "cell_type": "code",
   "execution_count": 2,
   "id": "0fdb3551-9a48-4d81-a5cf-5d35fcf89580",
   "metadata": {},
   "outputs": [],
   "source": [
    "import os\n",
    "import sys\n",
    "sys.path.append(os.path.abspath('../scripts'))\n",
    "fig_path      = '../figures/'\n",
    "data_path     = '../data/'"
   ]
  },
  {
   "cell_type": "code",
   "execution_count": 3,
   "id": "a3f7645d-d336-4c8a-878b-9c384a566297",
   "metadata": {},
   "outputs": [],
   "source": [
    "import numpy as np\n",
    "import xarray as xr\n",
    "import os\n",
    "import sys\n",
    "from os.path import join,expanduser\n",
    "import matplotlib.pyplot as plt\n",
    "sys.path.append(os.path.abspath(os.path.join('..', '..', 'ECCO-v4-Python-Tutorial')))\n",
    "import ecco_access as ea\n",
    "user_home_dir = expanduser('~')\n",
    "import xgcm"
   ]
  },
  {
   "cell_type": "code",
   "execution_count": 4,
   "id": "c93514ea-40a9-4889-ac96-abea2098a9db",
   "metadata": {},
   "outputs": [],
   "source": [
    "import ecco_v4_py as ecco\n",
    "import warnings"
   ]
  },
  {
   "cell_type": "markdown",
   "id": "6481f336-7f80-4764-b784-9bf20350b994",
   "metadata": {},
   "source": [
    "## (1) Open ECCO files"
   ]
  },
  {
   "cell_type": "code",
   "execution_count": 5,
   "id": "8a51858d-72d2-42c0-a9de-a637e604f06f",
   "metadata": {},
   "outputs": [],
   "source": [
    "ds_ecco = xr.open_dataset(data_path + 'ecco_all_tiles_velocities.nc')              #velocities\n",
    "ds_geom = xr.open_dataset(data_path + 'GRID_GEOMETRY_ECCO_V4r5_native_llc0090.nc') #geometry"
   ]
  },
  {
   "cell_type": "markdown",
   "id": "71d237a5-0b1f-485b-8f46-0818ad9b7ab0",
   "metadata": {},
   "source": [
    "## (2) Define transect points"
   ]
  },
  {
   "cell_type": "code",
   "execution_count": 372,
   "id": "6f9f22fb-d9c8-4daf-88b7-de29c458b3b9",
   "metadata": {},
   "outputs": [],
   "source": [
    "p1 = [-54.85, 53.00] #[-56, 51]\n",
    "p2 = [-46.90, 55.50] #[-45, 60]"
   ]
  },
  {
   "cell_type": "markdown",
   "id": "81d90931-4eeb-40ea-9957-7243535ad190",
   "metadata": {},
   "source": [
    "## (3) Make masks "
   ]
  },
  {
   "cell_type": "code",
   "execution_count": 373,
   "id": "97292148-d2eb-4b7d-8afd-49d3447aa012",
   "metadata": {},
   "outputs": [],
   "source": [
    "warnings.simplefilter(action='ignore', category=FutureWarning)\n",
    "maskC, maskW, maskS = ecco.get_section_line_masks(p1,p2,ds_ecco)"
   ]
  },
  {
   "cell_type": "markdown",
   "id": "d5c7fb69-d0e9-4a7a-b717-664b7334c96e",
   "metadata": {},
   "source": [
    "## (4) Center velocities"
   ]
  },
  {
   "cell_type": "code",
   "execution_count": 8,
   "id": "5b34297b-4783-4042-91fa-cc1cfaf4afbe",
   "metadata": {},
   "outputs": [
    {
     "name": "stdout",
     "output_type": "stream",
     "text": [
      "1\n",
      "2\n",
      "3\n",
      "4\n",
      "5\n",
      "6\n",
      "7\n",
      "8\n",
      "9\n",
      "10\n",
      "11\n",
      "12\n",
      "13\n",
      "14\n",
      "15\n",
      "16\n",
      "17\n",
      "18\n",
      "19\n",
      "20\n",
      "21\n",
      "22\n",
      "23\n",
      "24\n",
      "25\n",
      "26\n",
      "27\n",
      "28\n",
      "29\n",
      "30\n",
      "31\n",
      "32\n",
      "33\n",
      "34\n",
      "35\n",
      "36\n",
      "37\n",
      "38\n",
      "39\n",
      "40\n",
      "41\n",
      "42\n",
      "43\n",
      "44\n",
      "45\n",
      "46\n",
      "47\n",
      "48\n",
      "49\n",
      "50\n",
      "51\n",
      "52\n",
      "53\n",
      "54\n",
      "55\n",
      "56\n",
      "57\n",
      "58\n",
      "59\n",
      "60\n",
      "61\n",
      "62\n",
      "63\n",
      "64\n",
      "65\n",
      "66\n",
      "67\n",
      "68\n",
      "69\n",
      "70\n",
      "71\n",
      "72\n",
      "73\n",
      "74\n",
      "75\n",
      "76\n",
      "77\n",
      "78\n",
      "79\n",
      "80\n",
      "81\n",
      "82\n",
      "83\n",
      "84\n",
      "85\n",
      "86\n",
      "87\n",
      "88\n",
      "89\n",
      "90\n",
      "91\n",
      "92\n",
      "93\n",
      "94\n",
      "95\n",
      "96\n",
      "97\n",
      "98\n",
      "99\n",
      "100\n",
      "101\n",
      "102\n",
      "103\n",
      "104\n",
      "105\n",
      "106\n",
      "107\n",
      "108\n",
      "109\n",
      "110\n",
      "111\n",
      "112\n",
      "113\n",
      "114\n",
      "115\n",
      "116\n",
      "117\n",
      "118\n",
      "119\n",
      "120\n",
      "121\n",
      "122\n",
      "123\n",
      "124\n",
      "125\n",
      "126\n",
      "127\n",
      "128\n",
      "129\n",
      "130\n",
      "131\n",
      "132\n",
      "133\n",
      "134\n",
      "135\n",
      "136\n",
      "137\n",
      "138\n",
      "139\n",
      "140\n",
      "141\n",
      "142\n",
      "143\n",
      "144\n",
      "145\n",
      "146\n",
      "147\n",
      "148\n",
      "149\n",
      "150\n",
      "151\n",
      "152\n",
      "153\n",
      "154\n",
      "155\n",
      "156\n",
      "157\n",
      "158\n",
      "159\n",
      "160\n",
      "161\n",
      "162\n",
      "163\n",
      "164\n",
      "165\n",
      "166\n",
      "167\n",
      "168\n",
      "169\n",
      "170\n",
      "171\n",
      "172\n",
      "173\n",
      "174\n",
      "175\n",
      "176\n",
      "177\n",
      "178\n",
      "179\n",
      "180\n",
      "181\n",
      "182\n",
      "183\n",
      "184\n",
      "185\n",
      "186\n",
      "187\n",
      "188\n",
      "189\n",
      "190\n",
      "191\n",
      "192\n",
      "193\n",
      "194\n",
      "195\n",
      "196\n",
      "197\n",
      "198\n",
      "199\n",
      "200\n",
      "201\n",
      "202\n",
      "203\n",
      "204\n",
      "205\n",
      "206\n",
      "207\n",
      "208\n",
      "209\n",
      "210\n",
      "211\n",
      "212\n",
      "213\n",
      "214\n",
      "215\n",
      "216\n",
      "217\n",
      "218\n",
      "219\n",
      "220\n",
      "221\n",
      "222\n",
      "223\n",
      "224\n",
      "225\n",
      "226\n",
      "227\n",
      "228\n",
      "229\n",
      "230\n",
      "231\n",
      "232\n",
      "233\n",
      "234\n",
      "235\n",
      "236\n",
      "237\n",
      "238\n",
      "239\n",
      "240\n",
      "241\n",
      "242\n",
      "243\n",
      "244\n",
      "245\n",
      "246\n",
      "247\n",
      "248\n",
      "249\n",
      "250\n",
      "251\n",
      "252\n",
      "253\n",
      "254\n",
      "255\n",
      "256\n",
      "257\n",
      "258\n",
      "259\n",
      "260\n",
      "261\n",
      "262\n",
      "263\n",
      "264\n",
      "265\n",
      "266\n",
      "267\n",
      "268\n",
      "269\n",
      "270\n",
      "271\n",
      "272\n",
      "273\n",
      "274\n",
      "275\n",
      "276\n",
      "277\n",
      "278\n",
      "279\n",
      "280\n",
      "281\n",
      "282\n",
      "283\n",
      "284\n",
      "285\n",
      "286\n",
      "287\n",
      "288\n",
      "289\n",
      "290\n",
      "291\n",
      "292\n",
      "293\n",
      "294\n",
      "295\n",
      "296\n",
      "297\n",
      "298\n",
      "299\n",
      "300\n",
      "301\n",
      "302\n",
      "303\n",
      "304\n",
      "305\n",
      "306\n",
      "307\n",
      "308\n",
      "309\n",
      "310\n",
      "311\n"
     ]
    }
   ],
   "source": [
    "u_centered = 0.5 * (ds_ecco.UVEL.isel(time = 0, i_g=slice(0, -1)) + ds_ecco.UVEL.isel(time = 0, i_g=slice(1, None)))\n",
    "v_centered = 0.5 * (ds_ecco.VVEL.isel(time = 0, j_g=slice(0, -1)) + ds_ecco.VVEL.isel(time = 0, j_g=slice(1, None)))\n",
    "\n",
    "for t in range(1, len(ds_ecco.time)):\n",
    "    print(t)\n",
    "    u_temp = 0.5 * (ds_ecco.UVEL.isel(time = t, i_g=slice(0, -1)) + ds_ecco.UVEL.isel(time = t, i_g=slice(1, None)))\n",
    "    v_temp = 0.5 * (ds_ecco.VVEL.isel(time = t, j_g=slice(0, -1)) + ds_ecco.VVEL.isel(time = t, j_g=slice(1, None)))\n",
    "\n",
    "    u_centered = xr.concat([u_centered,u_temp], dim = 'time')\n",
    "    v_centered = xr.concat([v_centered,v_temp], dim = 'time')"
   ]
  },
  {
   "cell_type": "code",
   "execution_count": 357,
   "id": "817e0d42-770d-4271-9013-2c4173d602a8",
   "metadata": {},
   "outputs": [],
   "source": [
    "u_centered = u_centered.rename({'i_g': 'i'}) \n",
    "v_centered = v_centered.rename({'j_g': 'j'})"
   ]
  },
  {
   "cell_type": "markdown",
   "id": "626ebe5c-0728-4ed5-89c1-5df5b161e06b",
   "metadata": {},
   "source": [
    "## (4) Apply masks to velocity"
   ]
  },
  {
   "cell_type": "code",
   "execution_count": 374,
   "id": "27a1e902-fb3d-4620-84e7-d2cf64965b2d",
   "metadata": {},
   "outputs": [],
   "source": [
    "maskC = maskC.sel(j = slice(1,88), i = slice(1,88))"
   ]
  },
  {
   "cell_type": "code",
   "execution_count": 375,
   "id": "bdb7f441-3f4a-42c0-8ad5-d07bbf612042",
   "metadata": {},
   "outputs": [],
   "source": [
    "uvel_tile11  = u_centered.sel(tile=10).squeeze()\n",
    "vvel_tile11  = v_centered.sel(tile=10).squeeze()\n",
    "\n",
    "uvel_tile11 = uvel_tile11.sel(j = slice(1,88), i = slice(1,88))\n",
    "vvel_tile11 = vvel_tile11.sel(j = slice(1,88), i = slice(1,88))\n",
    "\n",
    "maskC_tile11 = maskC.sel(tile=10).squeeze()\n",
    "maskC_tile11 = maskC_tile11.where(maskC_tile11 > 0.01, np.nan)\n",
    "maskC_tile11 = maskC_tile11.expand_dims({'time':len(uvel_tile11.time)})\n",
    "maskC_tile11 = maskC_tile11.expand_dims({'k':len(uvel_tile11.k)})\n",
    "\n",
    "uvel_masked  = maskC_tile11*uvel_tile11\n",
    "vvel_masked  = maskC_tile11*vvel_tile11"
   ]
  },
  {
   "cell_type": "markdown",
   "id": "9edd119e-07f3-44ed-b4fb-c13039d3e4cd",
   "metadata": {},
   "source": [
    "## (5) Put only points on transect into array"
   ]
  },
  {
   "cell_type": "code",
   "execution_count": 376,
   "id": "51ea1298-2f63-49bd-b79b-f759583156e3",
   "metadata": {},
   "outputs": [],
   "source": [
    "valid_mask      = ~uvel_masked.isnull().all(dim=['k', 'time'])\n",
    "stacked         = valid_mask.stack(points=('j', 'i'))\n",
    "valid_points    = stacked.where(stacked, drop=True)\n",
    "transect_coords = list(zip(valid_points['i'].values, valid_points['j'].values))\n",
    "transect_coords = transect_coords[1:]"
   ]
  },
  {
   "cell_type": "code",
   "execution_count": 377,
   "id": "f9ff6173-ce89-4f9d-815c-d251007895e4",
   "metadata": {},
   "outputs": [],
   "source": [
    "transect_data = []\n",
    "for i, j in transect_coords:\n",
    "    vel = uvel_masked.isel(j=j-1, i=i - 1)  # shape: (time,)\n",
    "    transect_data.append(vel)\n",
    "\n",
    "# Combine into single DataArray along a new 'point' dimension\n",
    "transect_array = xr.concat(transect_data, dim='point')\n",
    "\n",
    "# Add coordinates to help track where each point came from\n",
    "transect_u = transect_array.assign_coords({\n",
    "    'point': np.arange(len(transect_coords)),\n",
    "    'i': ('point', [i for i, j in transect_coords]),\n",
    "    'j': ('point', [j for i, j in transect_coords])\n",
    "})"
   ]
  },
  {
   "cell_type": "code",
   "execution_count": 378,
   "id": "70d0e958-c4b8-4e6d-a132-0a7af1bab15f",
   "metadata": {},
   "outputs": [],
   "source": [
    "valid_mask      = ~vvel_masked.isnull().all(dim=['k', 'time'])\n",
    "valid_points    = valid_mask.stack(points=('j', 'i')).where(valid_mask.stack(points=('j', 'i')))\n",
    "valid_points    = valid_points.dropna('points')\n",
    "transect_coords = list(zip(valid_points['j'].values, valid_points['i'].values))\n",
    "transect_coords = [(y, x) for (x, y) in transect_coords]"
   ]
  },
  {
   "cell_type": "code",
   "execution_count": 379,
   "id": "7cb561b8-4f17-487e-b52d-1f0adedfafac",
   "metadata": {},
   "outputs": [],
   "source": [
    "transect_data = []\n",
    "for i, j in transect_coords:\n",
    "    vel = vvel_masked.isel(i=i-1,j=j-1)  # shape: (time,)\n",
    "    transect_data.append(vel)\n",
    "\n",
    "# Combine into single DataArray along a new 'point' dimension\n",
    "transect_array = xr.concat(transect_data, dim='point')\n",
    "\n",
    "# Add coordinates to help track where each point came from\n",
    "transect_v = transect_array.assign_coords({\n",
    "    'point': np.arange(len(transect_coords)),\n",
    "    'i': ('point', [i for i, j in transect_coords]),\n",
    "    'j': ('point', [j for i, j in transect_coords])\n",
    "})"
   ]
  },
  {
   "cell_type": "code",
   "execution_count": 380,
   "id": "dd8120c1-6130-414e-87e8-c5adf40d78e1",
   "metadata": {},
   "outputs": [],
   "source": [
    "bathy_tile_11 = ds_geom.Depth.isel(tile = 10)\n",
    "bathy_tile_11 = bathy_tile_11.sel(j = slice(1,88), i = slice(1,88))"
   ]
  },
  {
   "cell_type": "code",
   "execution_count": 381,
   "id": "119f7637-5cf9-4156-a4af-dbb371e7648c",
   "metadata": {},
   "outputs": [],
   "source": [
    "transect_bathy = [] \n",
    "for i, j in transect_coords:\n",
    "    bathy = bathy_tile_11.isel(i=i-1,j=j-1)  # shape: (time,)\n",
    "    transect_bathy.append(bathy)\n",
    "\n",
    "# Combine into single DataArray along a new 'point' dimension\n",
    "bathy_array = xr.concat(transect_bathy, dim='point')\n",
    "\n",
    "# Add coordinates to help track where each point came from\n",
    "bathy = bathy_array.assign_coords({\n",
    "    'point': np.arange(len(transect_coords)),\n",
    "    'i': ('point', [i for i, j in transect_coords]),\n",
    "    'j': ('point', [j for i, j in transect_coords])\n",
    "})"
   ]
  },
  {
   "cell_type": "code",
   "execution_count": 390,
   "id": "835aa827-3e1a-4154-9188-7b432624ef13",
   "metadata": {},
   "outputs": [],
   "source": [
    "ecco_tile_11 = ds_ecco.isel(tile = 10)\n",
    "ecco_tile_11 = ecco_tile_11.sel(j = slice(1,88), i = slice(1,88))"
   ]
  },
  {
   "cell_type": "code",
   "execution_count": 396,
   "id": "b2fd4ac7-428c-4948-ac36-24bb1d629a7f",
   "metadata": {},
   "outputs": [],
   "source": [
    "transect_lat = [] \n",
    "transect_lon = [] \n",
    "\n",
    "for i, j in transect_coords:\n",
    "    lat = ecco_tile_11.YC.isel(i=i-1,j=j-1)  # shape: (time,)\n",
    "    lon = ecco_tile_11.XC.isel(i=i-1,j=j-1) \n",
    "    transect_lat.append(lat.data)\n",
    "    transect_lon.append(lon.data)\n",
    "\n",
    "# Combine into single DataArray along a new 'point' dimension\n",
    "#bathy_array = xr.concat(transect_bathy, dim='point')\n",
    "\n",
    "# Add coordinates to help track where each point came from\n",
    "#bathy = bathy_array.assign_coords({\n",
    "#    'point': np.arange(len(transect_coords)),\n",
    "#    'i': ('point', [i for i, j in transect_coords]),\n",
    "#    'j': ('point', [j for i, j in transect_coords])\n",
    "#})"
   ]
  },
  {
   "cell_type": "markdown",
   "id": "0ddc459e-be95-4f18-8d3d-7f583fb91d9a",
   "metadata": {},
   "source": [
    "## (6) Rotate points to be normal to transect"
   ]
  },
  {
   "cell_type": "code",
   "execution_count": 382,
   "id": "ddf77188-3d76-4607-920c-23039e6a05d9",
   "metadata": {},
   "outputs": [],
   "source": [
    "dy = p2[0] - p1[0]\n",
    "dx = p2[1] - p1[1]\n",
    "theta = np.arctan2(dy, dx)"
   ]
  },
  {
   "cell_type": "code",
   "execution_count": 383,
   "id": "809cc645-071a-42f3-96a2-37e5ade461c7",
   "metadata": {},
   "outputs": [],
   "source": [
    "u_across = -transect_u * np.sin(theta) + transect_v * np.cos(theta)\n",
    "u_along  =  transect_u * np.cos(theta) + transect_v * np.sin(theta)"
   ]
  },
  {
   "cell_type": "markdown",
   "id": "44ff87b8-9b00-44d1-ac28-0cb36603d8ab",
   "metadata": {},
   "source": [
    "## (7) Convert to lat/lon"
   ]
  },
  {
   "cell_type": "code",
   "execution_count": 399,
   "id": "6b8b4848-5af8-4bc7-80fc-51e787195e91",
   "metadata": {},
   "outputs": [],
   "source": [
    "u_across = u_across.rename({'Z': 'depth'})\n",
    "u_along  = u_along.rename({'Z': 'depth'})"
   ]
  },
  {
   "cell_type": "code",
   "execution_count": 400,
   "id": "55b846a2-3a30-4ac8-baee-5c57bf097ec9",
   "metadata": {},
   "outputs": [],
   "source": [
    "bathy    = bathy.rename({'XC': 'longitude','YC': 'latitude'})"
   ]
  },
  {
   "cell_type": "markdown",
   "id": "7140b553-552e-46d5-b1e3-54fc61930b42",
   "metadata": {},
   "source": [
    "## (8) Plotting "
   ]
  },
  {
   "cell_type": "code",
   "execution_count": 425,
   "id": "4a392f49-d2c0-467c-aa5b-a20058371d3b",
   "metadata": {},
   "outputs": [],
   "source": [
    "import seaborn as sns\n",
    "import cmocean as cmo"
   ]
  },
  {
   "cell_type": "code",
   "execution_count": 452,
   "id": "c8f0ade8-b63b-4bf2-b116-08ac48454f03",
   "metadata": {},
   "outputs": [
    {
     "data": {
      "image/png": "[encoded data removed]",
      "text/plain": [
       "<Figure size 1200x400 with 2 Axes>"
      ]
     },
     "metadata": {},
     "output_type": "display_data"
    }
   ],
   "source": [
    "# --- Plot transect across western face ---\n",
    "save_name    = 'velocity_transect_west_lat_lon'\n",
    "sns.set_style('whitegrid',{\"grid.linestyle\": \":\"})\n",
    "\n",
    "fig  = plt.figure(figsize=[12,4])\n",
    "\n",
    "tit = plt.title('Across Section Velocities: 53N Array', fontsize=14)\n",
    "\n",
    "pcol  = plt.pcolor(np.array(transect_lon[:-1]), u_across.depth, u_across.mean(dim = 'time').T, cmap='cmo.balance', vmin = -0.15, vmax = 0.15)\n",
    "\n",
    "cbar  = plt.colorbar()\n",
    "clab_ = cbar.set_label('u [$ms^{-1}$]',  fontsize = 14,labelpad=11)\n",
    "ctix_ = cbar.ax.tick_params(labelsize=14)\n",
    "\n",
    "bat_ = plt.plot(bathy.longitude,bathy,'k')\n",
    "batfill_ = plt.fill_between(bathy.longitude,-4000, bathy,color = 'k',alpha = 0.3)\n",
    "\n",
    "xtix_ = plt.xticks(np.arange(-54,-48), labels = np.arange(49,55)[::-1], fontsize = 14)\n",
    "ytix_ = plt.yticks(np.arange(-4000,1,1000), labels = np.arange(0,4001,1000)[::-1], fontsize = 14)\n",
    "\n",
    "xlab_ = plt.xlabel('Longitude [˚W]', fontsize = 14)\n",
    "ylab_ = plt.ylabel('Depth [m]',fontsize = 14)\n",
    "xlim_ = plt.xlim(-54,-49)\n",
    "ylim_ = plt.ylim(-4000,0)\n",
    "#plt.savefig(fig_path  + save_name + '.png', format='png', bbox_inches=\"tight\",dpi=100)"
   ]
  },
  {
   "cell_type": "code",
   "execution_count": null,
   "id": "fc2c37c5-c7c4-49b7-9f9d-ea765498d277",
   "metadata": {},
   "outputs": [],
   "source": [
    "# --- Separations by depth ---\n",
    "# LSW   0400 m - 1850 m\n",
    "# NEADW 1850 m - 2800 m\n",
    "# DSOW  2800 m - BOT\n",
    "# LNADW 1850 m - BOT"
   ]
  },
  {
   "cell_type": "code",
   "execution_count": 454,
   "id": "638c1280-97e7-492f-a232-feb22b571fcb",
   "metadata": {},
   "outputs": [],
   "source": [
    "c_nadw  = '#648fff'\n",
    "c_lsw   = '#785ef0'\n",
    "c_neadw = '#dc267f'\n",
    "c_dsow  = '#fe6100'\n",
    "c_lnadw = '#ffb000'"
   ]
  },
  {
   "cell_type": "code",
   "execution_count": 469,
   "id": "24ad78c5-5cf5-4454-87d4-c9d555498828",
   "metadata": {},
   "outputs": [
    {
     "data": {
      "image/png": "[encoded data removed]",
      "text/plain": [
       "<Figure size 1200x400 with 2 Axes>"
      ]
     },
     "metadata": {},
     "output_type": "display_data"
    }
   ],
   "source": [
    "# --- Plot transect across western face ---\n",
    "save_name    = 'velocity_transect_west_lat_lon'\n",
    "sns.set_style('whitegrid',{\"grid.linestyle\": \":\"})\n",
    "\n",
    "fig  = plt.figure(figsize=[12,4])\n",
    "\n",
    "tit = plt.title('Across Section Velocities: 53N Array', fontsize=14)\n",
    "\n",
    "pcol  = plt.pcolor(np.array(transect_lon[:-1]), u_across.depth, u_across.mean(dim = 'time').T, cmap='cmo.balance', vmin = -0.15, vmax = 0.15)\n",
    "\n",
    "cbar  = plt.colorbar()\n",
    "clab_ = cbar.set_label('u [$ms^{-1}$]',  fontsize = 14,labelpad=11)\n",
    "ctix_ = cbar.ax.tick_params(labelsize=14)\n",
    "\n",
    "bat_ = plt.plot(bathy.longitude,bathy,'k')\n",
    "batfill_ = plt.fill_between(bathy.longitude,-4000, bathy,color = 'k',alpha = 0.3)\n",
    "\n",
    "xtix_ = plt.xticks(np.arange(-54,-48), labels = np.arange(49,55)[::-1], fontsize = 14)\n",
    "ytix_ = plt.yticks(np.arange(-4000,1,1000), labels = np.arange(0,4001,1000)[::-1], fontsize = 14)\n",
    "\n",
    "xlab_ = plt.xlabel('Longitude [˚W]', fontsize = 14)\n",
    "ylab_ = plt.ylabel('Depth [m]',fontsize = 14)\n",
    "xlim_ = plt.xlim(-54,-49)\n",
    "ylim_ = plt.ylim(-4000,0)\n",
    "\n",
    "lsw_fill   = plt.fill_between(bathy.longitude, -1850, -400,  color = c_lsw,  alpha = 0.15)\n",
    "neadw_fill = plt.fill_between(bathy.longitude, -2800, -1850, color = c_neadw,alpha = 0.15)\n",
    "dsow_fill  = plt.fill_between(bathy.longitude, -4000, -2800, color = c_dsow, alpha = 0.15)\n",
    "\n",
    "\n",
    "\n",
    "\n",
    "#plt.savefig(fig_path  + save_name + '.png', format='png', bbox_inches=\"tight\",dpi=100)"
   ]
  },
  {
   "cell_type": "markdown",
   "id": "5d61182e-ffad-49a8-ad8f-002ddb5bd9c8",
   "metadata": {},
   "source": [
    "## (9) Save everything to netcdf because I would rather die than redo this"
   ]
  },
  {
   "cell_type": "code",
   "execution_count": 471,
   "id": "6ab0896b-3186-4f81-a53b-a05a109d5600",
   "metadata": {},
   "outputs": [],
   "source": [
    "u_centered.to_netcdf(data_path + 'u_centered_tile11.nc')\n",
    "v_centered.to_netcdf(data_path + 'v_centered_tile11.nc')"
   ]
  },
  {
   "cell_type": "code",
   "execution_count": 472,
   "id": "3a2ff7e2-04bd-4caf-b29d-7c52bd7f0ac2",
   "metadata": {},
   "outputs": [],
   "source": [
    "u_across.to_netcdf(data_path + 'u_across_53N.nc')\n",
    "u_along.to_netcdf(data_path + 'u_along_53N.nc')"
   ]
  }
 ],
 "metadata": {
  "kernelspec": {
   "display_name": "Python 3.11 (ecco)",
   "language": "python",
   "name": "ecco-py311"
  },
  "language_info": {
   "codemirror_mode": {
    "name": "ipython",
    "version": 3
   },
   "file_extension": ".py",
   "mimetype": "text/x-python",
   "name": "python",
   "nbconvert_exporter": "python",
   "pygments_lexer": "ipython3",
   "version": "3.11.13"
  }
 },
 "nbformat": 4,
 "nbformat_minor": 5
}
